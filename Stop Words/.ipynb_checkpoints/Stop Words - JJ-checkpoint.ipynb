{
 "cells": [
  {
   "cell_type": "code",
   "execution_count": 1,
   "metadata": {},
   "outputs": [],
   "source": [
    "import spacy"
   ]
  },
  {
   "cell_type": "code",
   "execution_count": 2,
   "metadata": {},
   "outputs": [],
   "source": [
    "nlp = spacy.load(\"en_core_web_sm\")"
   ]
  },
  {
   "cell_type": "code",
   "execution_count": 5,
   "metadata": {},
   "outputs": [
    {
     "name": "stdout",
     "output_type": "stream",
     "text": [
      "{'among', 'wherein', 'per', 'although', 'about', 'anyhow', 'does', 'to', 'and', 'above', 'beside', 'none', \"'m\", 'using', 'we', 'already', 'other', 'therein', 'once', 'through', 'except', 'had', 'whereby', 'nine', 'of', \"'s\", 'five', 'mostly', 'serious', 'ten', 'last', 'upon', '’re', 'seemed', 'four', 'i', 'have', 'became', 'yet', 'due', 'alone', 'yourselves', 'hereupon', 'enough', 'take', 'often', 'latterly', 'into', 'their', 'did', 'used', 'just', 'onto', 'put', '’s', 'then', 'name', 'its', 'eight', 'for', 'myself', 'why', 'what', 'out', 'regarding', 'another', 'further', 'least', 'latter', 'somewhere', 'meanwhile', 'done', 'afterwards', 'whole', 'top', 'now', 'via', 'formerly', 'never', 'therefore', 'two', 'an', 'thereupon', 'within', 'give', 'at', 'should', 'doing', 'front', 'too', 'thus', 'this', 'behind', 'one', 'become', 'only', '‘m', 'though', 'anyway', 'part', 'n‘t', 'always', 'do', 'forty', '’d', 'everyone', 'sometimes', \"'ve\", 'before', 'nor', 'whether', 'less', 'unless', 'nowhere', 'until', 'ever', 'yourself', 'yours', 'here', 'seems', 'any', 'noone', 'after', 'seem', 'beyond', 'be', 'in', 'herein', 'move', 'otherwise', 'over', 'us', 'all', 'both', 'cannot', 'thence', 'were', 'amongst', 'between', 'please', 'almost', 'wherever', 'side', 'than', 'few', 'how', 'on', 'everything', 'themselves', '’m', 'without', 'hereby', 'toward', 'whom', 'if', 'they', 'along', 'that', 'n’t', 'besides', 'well', 'might', 'the', 'those', 'many', 'go', '‘d', '‘s', 'mine', 'a', 'hereafter', 'still', 'seeming', 'back', 'such', 'while', 'by', 'keep', 'together', 'ca', 'even', 'being', 'neither', 'everywhere', \"'ll\", 'others', 'moreover', 'whereas', 'same', 'down', 'most', \"'re\", 'nevertheless', 'up', 'very', 'each', 'off', 'his', 'but', 'whoever', 'am', 'twelve', 'when', 'either', 'some', 'as', 'much', '‘re', 'my', 'been', 'however', 'these', 'whither', 'anywhere', 'he', 'him', 'bottom', 'hers', 'from', 'made', 're', 'them', 'ours', 'not', 'elsewhere', '’ve', 'our', 'beforehand', 'has', 'somehow', 'so', 'show', 'else', 'must', 'are', \"n't\", 'perhaps', 'nothing', 'make', 'former', 'below', 'or', '’ll', 'indeed', 'thru', 'rather', 'namely', 'thereafter', 'there', 'every', 'could', 'you', '‘ll', 'amount', 'since', 'several', 'really', 'which', 'against', 'it', 'who', 'more', 'would', 'can', 'something', 'see', 'where', 'twenty', 'me', 'across', 'fifteen', 'under', 'whence', 'quite', \"'d\", 'own', 'she', 'whenever', 'herself', 'whereupon', 'get', 'becoming', 'sixty', 'fifty', 'was', 'whereafter', 'whatever', 'first', 'may', 'sometime', '‘ve', 'full', 'six', 'will', 'around', 'anything', 'thereby', 'itself', 'next', 'himself', 'whose', 'during', 'someone', 'say', 'three', 'her', 'empty', 'nobody', 'throughout', 'towards', 'also', 'anyone', 'is', 'because', 'hundred', 'becomes', 'third', 'your', 'ourselves', 'eleven', 'hence', 'with', 'no', 'various', 'again', 'call'}\n"
     ]
    }
   ],
   "source": [
    "print(nlp.Defaults.stop_words)"
   ]
  },
  {
   "cell_type": "code",
   "execution_count": 7,
   "metadata": {},
   "outputs": [
    {
     "data": {
      "text/plain": [
       "326"
      ]
     },
     "execution_count": 7,
     "metadata": {},
     "output_type": "execute_result"
    }
   ],
   "source": [
    "len(nlp.Defaults.stop_words)"
   ]
  },
  {
   "cell_type": "code",
   "execution_count": 10,
   "metadata": {},
   "outputs": [
    {
     "data": {
      "text/plain": [
       "True"
      ]
     },
     "execution_count": 10,
     "metadata": {},
     "output_type": "execute_result"
    }
   ],
   "source": [
    "nlp.vocab['is'].is_stop ## verifica na lista de vocabul[ario] X palavra"
   ]
  },
  {
   "cell_type": "code",
   "execution_count": 11,
   "metadata": {},
   "outputs": [
    {
     "data": {
      "text/plain": [
       "False"
      ]
     },
     "execution_count": 11,
     "metadata": {},
     "output_type": "execute_result"
    }
   ],
   "source": [
    "nlp.vocab['mystery'].is_stop"
   ]
  },
  {
   "cell_type": "code",
   "execution_count": 12,
   "metadata": {},
   "outputs": [],
   "source": [
    "## Aderindo palavras"
   ]
  },
  {
   "cell_type": "code",
   "execution_count": 23,
   "metadata": {},
   "outputs": [],
   "source": [
    "nlp.Defaults.stop_words.add ('btw') ## add palavra para a lista"
   ]
  },
  {
   "cell_type": "code",
   "execution_count": 24,
   "metadata": {},
   "outputs": [
    {
     "data": {
      "text/plain": [
       "327"
      ]
     },
     "execution_count": 24,
     "metadata": {},
     "output_type": "execute_result"
    }
   ],
   "source": [
    "len(nlp.Defaults.stop_words)"
   ]
  },
  {
   "cell_type": "code",
   "execution_count": 25,
   "metadata": {},
   "outputs": [],
   "source": [
    "nlp.Defaults.stop_words.remove ('btw') ## remove palavra da lista"
   ]
  },
  {
   "cell_type": "code",
   "execution_count": 27,
   "metadata": {},
   "outputs": [],
   "source": [
    "nlp.vocab['btw'].is_stop = False"
   ]
  },
  {
   "cell_type": "code",
   "execution_count": 28,
   "metadata": {},
   "outputs": [
    {
     "data": {
      "text/plain": [
       "False"
      ]
     },
     "execution_count": 28,
     "metadata": {},
     "output_type": "execute_result"
    }
   ],
   "source": [
    "nlp.vocab['btw'].is_stop"
   ]
  },
  {
   "cell_type": "code",
   "execution_count": null,
   "metadata": {},
   "outputs": [],
   "source": []
  }
 ],
 "metadata": {
  "kernelspec": {
   "display_name": "Python 3",
   "language": "python",
   "name": "python3"
  },
  "language_info": {
   "codemirror_mode": {
    "name": "ipython",
    "version": 3
   },
   "file_extension": ".py",
   "mimetype": "text/x-python",
   "name": "python",
   "nbconvert_exporter": "python",
   "pygments_lexer": "ipython3",
   "version": "3.8.3"
  }
 },
 "nbformat": 4,
 "nbformat_minor": 4
}
