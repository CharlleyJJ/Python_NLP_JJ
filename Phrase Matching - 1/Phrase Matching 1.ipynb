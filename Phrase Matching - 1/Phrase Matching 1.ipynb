{
 "cells": [
  {
   "cell_type": "code",
   "execution_count": 4,
   "metadata": {},
   "outputs": [],
   "source": [
    "import spacy"
   ]
  },
  {
   "cell_type": "code",
   "execution_count": 5,
   "metadata": {},
   "outputs": [],
   "source": [
    "nlp = spacy.load('en_core_web_sm')"
   ]
  },
  {
   "cell_type": "code",
   "execution_count": 6,
   "metadata": {},
   "outputs": [],
   "source": [
    "from spacy.matcher import Matcher"
   ]
  },
  {
   "cell_type": "code",
   "execution_count": 7,
   "metadata": {},
   "outputs": [],
   "source": [
    "matcher = Matcher(nlp.vocab)"
   ]
  },
  {
   "cell_type": "code",
   "execution_count": 8,
   "metadata": {},
   "outputs": [],
   "source": [
    "#Pchave= input('Digite sua palavra chave: ') ideia para a IA pesquisa X palavra"
   ]
  },
  {
   "cell_type": "code",
   "execution_count": 9,
   "metadata": {},
   "outputs": [],
   "source": [
    "#é necessário inserir este conjunto de regras ao comparador ( Matcher)\n",
    "\n",
    "\n",
    "# ArtificialIntelligence\n",
    "pattern1 = [{'LOWER':'artificialintelligence'}]\n",
    "# Artificial-Intelligence\n",
    "pattern2 = [{'LOWER':'artificial'},{'IS_PUNCT':True},{'LOWER':'intelligence'}]\n",
    "# Artificial Intelligence\n",
    "pattern3 = [{'LOWER': 'artificial'},{'LOWER':'intelligence'}]\n",
    "#Tentando fazer o usuario colocar por input o comando:\n",
    "#pattern4 = [{'LOWER': f'Pchave }]"
   ]
  },
  {
   "cell_type": "code",
   "execution_count": 10,
   "metadata": {},
   "outputs": [],
   "source": [
    "matcher.add(\"ArtificialIntelligence\",None,pattern1,pattern2,pattern3)"
   ]
  },
  {
   "cell_type": "code",
   "execution_count": 16,
   "metadata": {},
   "outputs": [],
   "source": [
    "doc = nlp(u\"Artificial intelligence (AI), is intelligence demonstrated by machines, unlike the natural intelligence displayed by humans and animals. Leading AI textbooks define the field as the study of 'intelligent agents': any device that perceives its environment and takes actions that maximize its chance of successfully achieving its goals.[3] Colloquially, the term 'Artificialintelligence' is often used to describe machines (or computers) that mimic 'cognitive' functions that humans associate with the human mind, such as learning and problem solving.[4] just to say we found an artificial-intelligence with a following dash\")"
   ]
  },
  {
   "cell_type": "code",
   "execution_count": 17,
   "metadata": {},
   "outputs": [],
   "source": [
    "found_matches=matcher(doc)"
   ]
  },
  {
   "cell_type": "code",
   "execution_count": 18,
   "metadata": {},
   "outputs": [
    {
     "name": "stdout",
     "output_type": "stream",
     "text": [
      "[(8933914146489643596, 0, 2), (8933914146489643596, 61, 62), (8933914146489643596, 100, 103)]\n"
     ]
    }
   ],
   "source": [
    "print(found_matches)"
   ]
  },
  {
   "cell_type": "code",
   "execution_count": 19,
   "metadata": {},
   "outputs": [
    {
     "name": "stdout",
     "output_type": "stream",
     "text": [
      "8933914146489643596 ArtificialIntelligence 0 2 Artificial intelligence\n",
      "8933914146489643596 ArtificialIntelligence 61 62 Artificialintelligence\n",
      "8933914146489643596 ArtificialIntelligence 100 103 artificial-intelligence\n"
     ]
    }
   ],
   "source": [
    "for match_id, start, end in found_matches:\n",
    "    string_id = nlp.vocab.strings[match_id] #adquirir a representação da string\n",
    "    span = doc[start:end] #adquirir em qual linha iniciou e finalizou a palavra identificada\n",
    "    print(match_id,string_id, start, end, span.text)"
   ]
  },
  {
   "cell_type": "code",
   "execution_count": null,
   "metadata": {},
   "outputs": [],
   "source": []
  },
  {
   "cell_type": "code",
   "execution_count": 20,
   "metadata": {},
   "outputs": [],
   "source": [
    "matcher.remove('ArtificialIntelligence')"
   ]
  },
  {
   "cell_type": "code",
   "execution_count": null,
   "metadata": {},
   "outputs": [],
   "source": []
  },
  {
   "cell_type": "code",
   "execution_count": 29,
   "metadata": {},
   "outputs": [],
   "source": [
    "#artificialintelligence ArtificialIntelligence\n",
    "pattern1 = [{'LOWER': 'artificialintelligence'}]\n",
    "#Articial.Intelligence\n",
    "pattern2 = [{'Lower':'Artificial'},{'IS_PUNCT':True, 'OP':'*'},{'LOWER':'intelligence'}]"
   ]
  },
  {
   "cell_type": "code",
   "execution_count": 30,
   "metadata": {},
   "outputs": [],
   "source": [
    "matcher.add('ArtificialIntelligence',None,pattern1,pattern2)"
   ]
  },
  {
   "cell_type": "code",
   "execution_count": 31,
   "metadata": {},
   "outputs": [],
   "source": [
    "doc2=nlp(u\"Artificial--Intelligence is the way we should seek our bright new future alltogether with artificialintelligence yay!\")"
   ]
  },
  {
   "cell_type": "code",
   "execution_count": 32,
   "metadata": {},
   "outputs": [],
   "source": [
    "found_matches = matcher(doc2)"
   ]
  },
  {
   "cell_type": "code",
   "execution_count": 33,
   "metadata": {},
   "outputs": [
    {
     "name": "stdout",
     "output_type": "stream",
     "text": [
      "[(8933914146489643596, 0, 3), (8933914146489643596, 15, 16)]\n"
     ]
    }
   ],
   "source": [
    "print(found_matches)"
   ]
  },
  {
   "cell_type": "code",
   "execution_count": 34,
   "metadata": {},
   "outputs": [
    {
     "name": "stdout",
     "output_type": "stream",
     "text": [
      "8933914146489643596 ArtificialIntelligence 0 3 Artificial intelligence (\n",
      "8933914146489643596 ArtificialIntelligence 15 16 intelligence\n"
     ]
    }
   ],
   "source": [
    "for match_id, start, end in found_matches:\n",
    "    string_id = nlp.vocab.strings[match_id] #adquirir a representação da string\n",
    "    span = doc[start:end] #adquirir em qual linha iniciou e finalizou a palavra identificada\n",
    "    print(match_id,string_id, start, end, span.text)"
   ]
  },
  {
   "cell_type": "code",
   "execution_count": 35,
   "metadata": {},
   "outputs": [],
   "source": [
    "#Phrase Matching2"
   ]
  },
  {
   "cell_type": "code",
   "execution_count": 36,
   "metadata": {},
   "outputs": [],
   "source": [
    "#Outro método"
   ]
  },
  {
   "cell_type": "code",
   "execution_count": 37,
   "metadata": {},
   "outputs": [],
   "source": [
    "from spacy.matcher import PhraseMatcher"
   ]
  },
  {
   "cell_type": "code",
   "execution_count": 38,
   "metadata": {},
   "outputs": [],
   "source": [
    "matcher = PhraseMatcher(nlp.vocab)"
   ]
  },
  {
   "cell_type": "code",
   "execution_count": 39,
   "metadata": {},
   "outputs": [],
   "source": [
    "with open('../Text files/machinelearning.txt') as f:\n",
    "    doc3 = nlp(f.read())"
   ]
  },
  {
   "cell_type": "code",
   "execution_count": 40,
   "metadata": {},
   "outputs": [],
   "source": [
    "phrase_list = ['artificial intelligence','making predictions','supervised learning']"
   ]
  },
  {
   "cell_type": "code",
   "execution_count": 41,
   "metadata": {},
   "outputs": [],
   "source": [
    "phrase_patterns = [nlp(text) for text in phrase_list]"
   ]
  },
  {
   "cell_type": "code",
   "execution_count": 42,
   "metadata": {},
   "outputs": [
    {
     "data": {
      "text/plain": [
       "[artificial intelligence, making predictions, supervised learning]"
      ]
     },
     "execution_count": 42,
     "metadata": {},
     "output_type": "execute_result"
    }
   ],
   "source": [
    "phrase_patterns # Observa a lista de frases"
   ]
  },
  {
   "cell_type": "code",
   "execution_count": 43,
   "metadata": {},
   "outputs": [
    {
     "data": {
      "text/plain": [
       "spacy.tokens.doc.Doc"
      ]
     },
     "execution_count": 43,
     "metadata": {},
     "output_type": "execute_result"
    }
   ],
   "source": [
    "type(phrase_patterns[0]) #Objeto do doc de spacy"
   ]
  },
  {
   "cell_type": "code",
   "execution_count": 44,
   "metadata": {},
   "outputs": [],
   "source": [
    "matcher.add('MachineMatcher',None,*phrase_patterns)"
   ]
  },
  {
   "cell_type": "code",
   "execution_count": 46,
   "metadata": {},
   "outputs": [],
   "source": [
    "found_matches = matcher(doc3)"
   ]
  },
  {
   "cell_type": "code",
   "execution_count": 47,
   "metadata": {},
   "outputs": [
    {
     "data": {
      "text/plain": [
       "[(2825773868567735347, 30, 32),\n",
       " (2825773868567735347, 116, 118),\n",
       " (2825773868567735347, 185, 187),\n",
       " (2825773868567735347, 975, 977),\n",
       " (2825773868567735347, 1237, 1239)]"
      ]
     },
     "execution_count": 47,
     "metadata": {},
     "output_type": "execute_result"
    }
   ],
   "source": [
    "found_matches"
   ]
  },
  {
   "cell_type": "code",
   "execution_count": 48,
   "metadata": {},
   "outputs": [
    {
     "name": "stdout",
     "output_type": "stream",
     "text": [
      "2825773868567735347 MachineMatcher 30 32 artificial intelligence\n",
      "2825773868567735347 MachineMatcher 116 118 making predictions\n",
      "2825773868567735347 MachineMatcher 185 187 artificial intelligence\n",
      "2825773868567735347 MachineMatcher 975 977 artificial intelligence\n",
      "2825773868567735347 MachineMatcher 1237 1239 artificial intelligence\n"
     ]
    }
   ],
   "source": [
    "for match_id, start, end in found_matches:\n",
    "    string_id = nlp.vocab.strings[match_id] #adquirir a representação da string\n",
    "    span = doc3[start:end] #adquirir em qual linha iniciou e finalizou a palavra identificada\n",
    "    print(match_id,string_id, start, end, span.text)"
   ]
  },
  {
   "cell_type": "code",
   "execution_count": 52,
   "metadata": {},
   "outputs": [
    {
     "name": "stdout",
     "output_type": "stream",
     "text": [
      "2825773868567735347 MachineMatcher 30 32 seen as a subset of artificial intelligence. Machine learning algorithms build\n",
      "2825773868567735347 MachineMatcher 116 118 statistics, which focuses on making predictions using computers. The study\n",
      "2825773868567735347 MachineMatcher 185 187 learning is an application of artificial intelligence (AI) that provides\n",
      "2825773868567735347 MachineMatcher 975 977 out of the quest for artificial intelligence. In the early days\n",
      "2825773868567735347 MachineMatcher 1237 1239 changed its goal from achieving artificial intelligence to tackling solvable problems of\n"
     ]
    }
   ],
   "source": [
    "for match_id, start, end in found_matches:\n",
    "    string_id = nlp.vocab.strings[match_id] #adquirir a representação da string\n",
    "    span = doc3[start-5:end+5] #adquirir em qual linha iniciou e finalizou a palavra identificada aderindo CONTEXTO\n",
    "    print(match_id,string_id, start, end, span.text)"
   ]
  },
  {
   "cell_type": "code",
   "execution_count": null,
   "metadata": {},
   "outputs": [],
   "source": []
  }
 ],
 "metadata": {
  "kernelspec": {
   "display_name": "Python 3",
   "language": "python",
   "name": "python3"
  },
  "language_info": {
   "codemirror_mode": {
    "name": "ipython",
    "version": 3
   },
   "file_extension": ".py",
   "mimetype": "text/x-python",
   "name": "python",
   "nbconvert_exporter": "python",
   "pygments_lexer": "ipython3",
   "version": "3.8.3"
  }
 },
 "nbformat": 4,
 "nbformat_minor": 4
}
